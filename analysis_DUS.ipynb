{
 "cells": [
  {
   "cell_type": "code",
   "execution_count": 16,
   "metadata": {},
   "outputs": [
    {
     "name": "stderr",
     "output_type": "stream",
     "text": [
      "c:\\Users\\ericf\\miniconda3\\Lib\\site-packages\\pandas\\core\\arraylike.py:399: RuntimeWarning: divide by zero encountered in log\n",
      "  result = getattr(ufunc, method)(*inputs, **kwargs)\n"
     ]
    },
    {
     "data": {
      "text/html": [
       "<div>\n",
       "<style scoped>\n",
       "    .dataframe tbody tr th:only-of-type {\n",
       "        vertical-align: middle;\n",
       "    }\n",
       "\n",
       "    .dataframe tbody tr th {\n",
       "        vertical-align: top;\n",
       "    }\n",
       "\n",
       "    .dataframe thead th {\n",
       "        text-align: right;\n",
       "    }\n",
       "</style>\n",
       "<table border=\"1\" class=\"dataframe\">\n",
       "  <thead>\n",
       "    <tr style=\"text-align: right;\">\n",
       "      <th></th>\n",
       "      <th>Unnamed: 0</th>\n",
       "      <th>cdm_name</th>\n",
       "      <th>group_level</th>\n",
       "      <th>min_data</th>\n",
       "      <th>max_data</th>\n",
       "      <th>shortage_year</th>\n",
       "      <th>estimate_before</th>\n",
       "      <th>estimate_after</th>\n",
       "      <th>diff</th>\n",
       "      <th>variable_level</th>\n",
       "      <th>country</th>\n",
       "      <th>data_type</th>\n",
       "      <th>set</th>\n",
       "      <th>variable_name</th>\n",
       "      <th>log_diff</th>\n",
       "    </tr>\n",
       "  </thead>\n",
       "  <tbody>\n",
       "    <tr>\n",
       "      <th>0</th>\n",
       "      <td>1</td>\n",
       "      <td>INT</td>\n",
       "      <td>amoxicillin</td>\n",
       "      <td>2010</td>\n",
       "      <td>2024</td>\n",
       "      <td>2023</td>\n",
       "      <td>36.500000</td>\n",
       "      <td>45.70</td>\n",
       "      <td>1.252055</td>\n",
       "      <td>Male</td>\n",
       "      <td>Italy</td>\n",
       "      <td>secondary</td>\n",
       "      <td>inc</td>\n",
       "      <td>NaN</td>\n",
       "      <td>0.224786</td>\n",
       "    </tr>\n",
       "    <tr>\n",
       "      <th>1</th>\n",
       "      <td>2</td>\n",
       "      <td>OLVA MS</td>\n",
       "      <td>amoxicillin</td>\n",
       "      <td>2015</td>\n",
       "      <td>2024</td>\n",
       "      <td>2023</td>\n",
       "      <td>22.666667</td>\n",
       "      <td>11.75</td>\n",
       "      <td>0.518382</td>\n",
       "      <td>Age</td>\n",
       "      <td>Belgium</td>\n",
       "      <td>secondary</td>\n",
       "      <td>inc</td>\n",
       "      <td>NaN</td>\n",
       "      <td>-0.657042</td>\n",
       "    </tr>\n",
       "    <tr>\n",
       "      <th>2</th>\n",
       "      <td>3</td>\n",
       "      <td>OPCRD</td>\n",
       "      <td>amoxicillin</td>\n",
       "      <td>2010</td>\n",
       "      <td>2024</td>\n",
       "      <td>2023</td>\n",
       "      <td>30.333333</td>\n",
       "      <td>43.00</td>\n",
       "      <td>1.417582</td>\n",
       "      <td>Age</td>\n",
       "      <td>UK</td>\n",
       "      <td>primary</td>\n",
       "      <td>inc</td>\n",
       "      <td>NaN</td>\n",
       "      <td>0.348953</td>\n",
       "    </tr>\n",
       "    <tr>\n",
       "      <th>3</th>\n",
       "      <td>4</td>\n",
       "      <td>THIN Romania</td>\n",
       "      <td>amoxicillin</td>\n",
       "      <td>2010</td>\n",
       "      <td>2023</td>\n",
       "      <td>2023</td>\n",
       "      <td>15.666667</td>\n",
       "      <td>11.00</td>\n",
       "      <td>0.702128</td>\n",
       "      <td>Age</td>\n",
       "      <td>Romania</td>\n",
       "      <td>claims P+S</td>\n",
       "      <td>inc</td>\n",
       "      <td>NaN</td>\n",
       "      <td>-0.353640</td>\n",
       "    </tr>\n",
       "    <tr>\n",
       "      <th>4</th>\n",
       "      <td>5</td>\n",
       "      <td>ULSGE</td>\n",
       "      <td>amoxicillin</td>\n",
       "      <td>2010</td>\n",
       "      <td>2023</td>\n",
       "      <td>2023</td>\n",
       "      <td>15.000000</td>\n",
       "      <td>11.00</td>\n",
       "      <td>0.733333</td>\n",
       "      <td>Age</td>\n",
       "      <td>Portugal</td>\n",
       "      <td>secondary</td>\n",
       "      <td>inc</td>\n",
       "      <td>NaN</td>\n",
       "      <td>-0.310155</td>\n",
       "    </tr>\n",
       "  </tbody>\n",
       "</table>\n",
       "</div>"
      ],
      "text/plain": [
       "   Unnamed: 0      cdm_name  group_level  min_data  max_data  shortage_year  \\\n",
       "0           1           INT  amoxicillin      2010      2024           2023   \n",
       "1           2       OLVA MS  amoxicillin      2015      2024           2023   \n",
       "2           3         OPCRD  amoxicillin      2010      2024           2023   \n",
       "3           4  THIN Romania  amoxicillin      2010      2023           2023   \n",
       "4           5         ULSGE  amoxicillin      2010      2023           2023   \n",
       "\n",
       "   estimate_before  estimate_after      diff variable_level   country  \\\n",
       "0        36.500000           45.70  1.252055           Male     Italy   \n",
       "1        22.666667           11.75  0.518382            Age   Belgium   \n",
       "2        30.333333           43.00  1.417582            Age        UK   \n",
       "3        15.666667           11.00  0.702128            Age   Romania   \n",
       "4        15.000000           11.00  0.733333            Age  Portugal   \n",
       "\n",
       "    data_type  set variable_name  log_diff  \n",
       "0   secondary  inc           NaN  0.224786  \n",
       "1   secondary  inc           NaN -0.657042  \n",
       "2     primary  inc           NaN  0.348953  \n",
       "3  claims P+S  inc           NaN -0.353640  \n",
       "4   secondary  inc           NaN -0.310155  "
      ]
     },
     "execution_count": 16,
     "metadata": {},
     "output_type": "execute_result"
    }
   ],
   "source": [
    "import pandas as pd\n",
    "import numpy as np\n",
    "import matplotlib.pyplot as plt\n",
    "import seaborn as sns\n",
    "\n",
    "# Load the CSV file into a DataFrame\n",
    "df = pd.read_csv('amoxi_dus.csv')\n",
    "\n",
    "# Filter out non-positive values in 'diff' column\n",
    "#df = df[df['diff'] > 0]\n",
    "# Add a new column 'log_diff' which is the logarithm of the 'diff' column\n",
    "df['log_diff'] = np.log(df['diff'])\n",
    "\n",
    "# Display the first few rows of the DataFrame to verify the new column\n",
    "df.head()\n"
   ]
  },
  {
   "cell_type": "code",
   "execution_count": 7,
   "metadata": {},
   "outputs": [
    {
     "data": {
      "image/png": "[encoded data removed]",
      "text/plain": [
       "<Figure size 1000x600 with 1 Axes>"
      ]
     },
     "metadata": {},
     "output_type": "display_data"
    }
   ],
   "source": [
    "\n",
    "# Create a scatter plot\n",
    "#plt.figure(figsize=(10, 6))\n",
    "#scatter_plot = sns.scatterplot(data=df, x='estimate_before', y='estimate_after', hue='variable_level', palette='viridis')\n",
    "\n",
    "plt.figure(figsize=(10, 6))\n",
    "scatter_plot = sns.scatterplot(data=df, x='estimate_before', y='diff', hue='variable_level', palette='viridis')\n",
    "\n",
    "# Add labels and title\n",
    "plt.xlabel('Estimate Before')\n",
    "plt.ylabel('Estimate After')\n",
    "plt.title('Scatter Plot of Estimates Before and After')\n",
    "\n",
    "# Show the plot\n",
    "plt.show()"
   ]
  },
  {
   "cell_type": "code",
   "execution_count": 21,
   "metadata": {},
   "outputs": [
    {
     "data": {
      "image/png": "[encoded data removed]",
      "text/plain": [
       "<Figure size 1200x800 with 1 Axes>"
      ]
     },
     "metadata": {},
     "output_type": "display_data"
    }
   ],
   "source": [
    "# Create a scatter plot\n",
    "plt.figure(figsize=(12, 8))\n",
    "scatter_plot = sns.scatterplot(\n",
    "    data=(\n",
    "        df\n",
    "        .query(\"variable_name == 'Indication on index date'\")\n",
    "        .query(\"set == 'prev'\")\n",
    "        ), \n",
    "    x='variable_level', y='log_diff', hue='country', palette='colorblind')\n",
    "\n",
    "# Add labels and title\n",
    "plt.xlabel('Variable Level')\n",
    "plt.ylabel('Difference')\n",
    "plt.title('Scatter Plot of Difference by Variable Level, Colored by Country')\n",
    "\n",
    "# Rotate x-axis labels for better readability if needed\n",
    "plt.xticks(rotation=45)\n",
    "\n",
    "# Show the plot\n",
    "plt.show()"
   ]
  },
  {
   "cell_type": "code",
   "execution_count": 28,
   "metadata": {},
   "outputs": [
    {
     "data": {
      "image/png": "[encoded data removed]",
      "text/plain": [
       "<Figure size 1200x800 with 1 Axes>"
      ]
     },
     "metadata": {},
     "output_type": "display_data"
    }
   ],
   "source": [
    "\n",
    "# Filter the DataFrame for variable_level equal to 'Covid_19'\n",
    "filtered_df = (\n",
    "    df\n",
    "    .query(\"variable_level == 'Covid_19'\")\n",
    "    .query(\"variable_name == 'Indication on index date'\")\n",
    "    .query(\"set == 'inc'\")\n",
    "    #.query(\"set == 'prev'\")\n",
    ")\n",
    "\n",
    "# Create a scatter plot\n",
    "plt.figure(figsize=(12, 8))\n",
    "scatter_plot = sns.scatterplot(data=filtered_df, x='country', y='log_diff', hue='country', palette='colorblind')\n",
    "\n",
    "# Add labels and title\n",
    "plt.xlabel('Country')\n",
    "plt.ylabel('Difference')\n",
    "plt.title('Scatter Plot of Difference by Country for Variable Level Covid_19')\n",
    "\n",
    "# Rotate x-axis labels for better readability if needed\n",
    "plt.xticks(rotation=45)\n",
    "\n",
    "# Show the plot\n",
    "plt.show()"
   ]
  },
  {
   "cell_type": "code",
   "execution_count": 32,
   "metadata": {},
   "outputs": [
    {
     "data": {
      "application/vnd.plotly.v1+json": {
       "config": {
        "plotlyServerURL": "https://plot.ly"
       },
       "data": [
        {
         "hovertemplate": "country=Belgium<br>Variable Name - Variable Level=%{x}<br>Difference=%{y}<extra></extra>",
         "legendgroup": "Belgium",
         "marker": {
          "color": "#636efa",
          "symbol": "circle"
         },
         "mode": "markers",
         "name": "Belgium",
         "orientation": "v",
         "showlegend": true,
         "type": "scatter",
         "x": [
          null,
          "Chronic_bronchitis - Indication any time prior",
          "Covid_19 - Indication any time prior",
          "Covid_19 - Indication any time prior",
          "Covid_19 - Indication any time prior",
          "Covid_19 - Indication during prior 30 days",
          "Covid_19 - Indication during prior 30 days",
          "Covid_19 - Indication on index date",
          "Cystitis_bacteriuria - Indication any time prior",
          "Cystitis_bacteriuria - Indication any time prior",
          "Cystitis_bacteriuria - Indication during prior 30 days",
          "Cystitis_bacteriuria - Indication during prior 30 days",
          "Cystitis_bacteriuria - Indication during prior 30 days",
          "Cystitis_bacteriuria - Indication on index date",
          "Endocarditis - Indication during prior 30 days",
          "Infection - Indication any time prior",
          "Infection - Indication any time prior",
          "Infection - Indication during prior 30 days",
          "Infection - Indication during prior 30 days",
          "Infection - Indication on index date",
          "Infection - Indication on index date",
          "Orthopaedic_surgery - Indication any time prior",
          "Otitis_media - Indication any time prior",
          "Otitis_media - Indication during prior 30 days",
          "Otitis_media - Indication on index date",
          "Pneumonia - Indication any time prior",
          "Pneumonia - Indication any time prior",
          "Pneumonia - Indication any time prior",
          "Pneumonia - Indication during prior 30 days",
          "Pneumonia - Indication during prior 30 days",
          "Pneumonia - Indication during prior 30 days",
          "Pneumonia - Indication on index date",
          "Pneumonia - Indication on index date",
          "Pneumonia - Indication on index date",
          "Pyelonephritis - Indication any time prior",
          "Pyelonephritis - Indication during prior 30 days",
          "Pyelonephritis - Indication during prior 30 days",
          "Pyelonephritis - Indication on index date",
          "Tonsillitis_pharyngitis - Indication any time prior",
          "Tonsillitis_pharyngitis - Indication during prior 30 days",
          "Tonsillitis_pharyngitis - Indication on index date",
          "amoxicillin - initial_daily_dose_milligram",
          "amoxicillin - initial_quantity"
         ],
         "xaxis": "x",
         "y": [
          -0.65704217591783,
          -0.3894647667617228,
          -0.5863040849418961,
          0.4054651081081644,
          -0.2363887780642308,
          null,
          null,
          null,
          -0.45198512374305777,
          -0.4989911661189881,
          null,
          -0.34377153910282465,
          null,
          -0.38299225225610556,
          null,
          -0.7920160829812644,
          -0.3224480302949944,
          null,
          null,
          null,
          null,
          0.248461359298498,
          -0.8646578212496844,
          null,
          null,
          -1.0461115451021412,
          0.30511713427388243,
          -0.3490803886975263,
          null,
          0.7084146526907334,
          null,
          null,
          0.7556675375412811,
          null,
          -0.7339691750802004,
          null,
          null,
          null,
          -0.8573079539823052,
          null,
          null,
          -0.44190417829956896,
          -0.45473615711494647
         ],
         "yaxis": "y"
        },
        {
         "hovertemplate": "country=UK<br>Variable Name - Variable Level=%{x}<br>Difference=%{y}<extra></extra>",
         "legendgroup": "UK",
         "marker": {
          "color": "#EF553B",
          "symbol": "circle"
         },
         "mode": "markers",
         "name": "UK",
         "orientation": "v",
         "showlegend": true,
         "type": "scatter",
         "x": [
          null,
          "Covid_19 - Indication any time prior",
          "Covid_19 - Indication during prior 30 days",
          "Covid_19 - Indication on index date",
          "Cystitis_bacteriuria - Indication any time prior",
          "Endocarditis - Indication any time prior",
          "Helicobacter_pylori - Indication any time prior",
          "Helicobacter_pylori - Indication during prior 30 days",
          "Helicobacter_pylori - Indication on index date",
          "Infection - Indication any time prior",
          "Infection - Indication during prior 30 days",
          "Infection - Indication on index date",
          "Lyme_disease - Indication any time prior",
          "Orthopaedic_surgery - Indication any time prior",
          "Otitis_media - Indication any time prior",
          "Otitis_media - Indication during prior 30 days",
          "Otitis_media - Indication on index date",
          "Pneumonia - Indication any time prior",
          "Pneumonia - Indication during prior 30 days",
          "Pneumonia - Indication on index date",
          "Pyelonephritis - Indication any time prior",
          "Sinusitis - Indication any time prior",
          "Sinusitis - Indication during prior 30 days",
          "Sinusitis - Indication on index date",
          "Tonsillitis_pharyngitis - Indication any time prior",
          "Urethritis - Indication any time prior",
          "amoxicillin - duration"
         ],
         "xaxis": "x",
         "y": [
          0.34895289784482386,
          1.0917394093803474,
          -0.5877866649021182,
          -0.4700036292457356,
          0.33526084943491397,
          0.4054651081081644,
          0.5007752879124892,
          0.4054651081081644,
          0.5596157879354227,
          0.2598759022909086,
          0.46929716506941155,
          0.5255656419049115,
          1.0986122886681098,
          0.7249877864156035,
          0.34260584849031234,
          0.3897167511400252,
          0.3973017974690031,
          0.37067899202274973,
          0.5596157879354227,
          1.0986122886681098,
          0.4610349592629779,
          0.45063407647607634,
          0.22314355131420976,
          0.20479441264601542,
          0.28138458914652204,
          null,
          -1.3437347467010958
         ],
         "yaxis": "y"
        },
        {
         "hovertemplate": "country=Romania<br>Variable Name - Variable Level=%{x}<br>Difference=%{y}<extra></extra>",
         "legendgroup": "Romania",
         "marker": {
          "color": "#00cc96",
          "symbol": "circle"
         },
         "mode": "markers",
         "name": "Romania",
         "orientation": "v",
         "showlegend": true,
         "type": "scatter",
         "x": [
          null,
          "Chronic_bronchitis - Indication any time prior",
          "Chronic_bronchitis - Indication during prior 30 days",
          "Chronic_bronchitis - Indication on index date",
          "Covid_19 - Indication any time prior",
          "Cystitis_bacteriuria - Indication during prior 30 days",
          "Cystitis_bacteriuria - Indication on index date",
          "Endocarditis - Indication any time prior",
          "Infection - Indication on index date",
          "amoxicillin - cumulative_dose_milligram",
          "amoxicillin - initial_daily_dose_milligram",
          "amoxicillin - initial_quantity"
         ],
         "xaxis": "x",
         "y": [
          -0.3536400402435785,
          -0.4004018061516173,
          -0.8754687373538991,
          -0.8785504038913089,
          0.7924454015422262,
          -0.3204718952747721,
          -0.3067302674224749,
          null,
          0.1836768766309627,
          -1.2648338924196765,
          -1.695003800763749,
          -0.916290731874155
         ],
         "yaxis": "y"
        },
        {
         "hovertemplate": "country=Portugal<br>Variable Name - Variable Level=%{x}<br>Difference=%{y}<extra></extra>",
         "legendgroup": "Portugal",
         "marker": {
          "color": "#ab63fa",
          "symbol": "circle"
         },
         "mode": "markers",
         "name": "Portugal",
         "orientation": "v",
         "showlegend": true,
         "type": "scatter",
         "x": [
          null,
          null,
          "Chronic_bronchitis - Indication any time prior",
          "Covid_19 - Indication any time prior",
          "Covid_19 - Indication any time prior",
          "Cystitis_bacteriuria - Indication any time prior",
          "Infection - Indication on index date",
          "Otitis_media - Indication during prior 30 days",
          "Otitis_media - Indication on index date",
          "Pneumonia - Indication any time prior",
          "Pneumonia - Indication during prior 30 days",
          "Pneumonia - Indication on index date",
          "Sinusitis - Indication any time prior",
          "Tonsillitis_pharyngitis - Indication any time prior",
          "Tonsillitis_pharyngitis - Indication during prior 30 days",
          "Tonsillitis_pharyngitis - Indication during prior 30 days",
          "Tonsillitis_pharyngitis - Indication on index date",
          "Tonsillitis_pharyngitis - Indication on index date"
         ],
         "xaxis": "x",
         "y": [
          -0.31015492830384006,
          0.4054651081081644,
          0.23361485118150352,
          0.6603573577369535,
          0.48183808689273894,
          -0.25234270600647213,
          0.21221170226716027,
          -0.43049047567510484,
          -0.4127571523525846,
          0.4079808327054142,
          0.6494427463252181,
          0.6208265189803193,
          0.3448404862917274,
          0.40183972649384886,
          0.19867069479548435,
          0.675082173162304,
          0.23361485118150352,
          0.7411112397670732
         ],
         "yaxis": "y"
        },
        {
         "hovertemplate": "country=Israel<br>Variable Name - Variable Level=%{x}<br>Difference=%{y}<extra></extra>",
         "legendgroup": "Israel",
         "marker": {
          "color": "#FFA15A",
          "symbol": "circle"
         },
         "mode": "markers",
         "name": "Israel",
         "orientation": "v",
         "showlegend": true,
         "type": "scatter",
         "x": [
          "Chronic_bronchitis - Indication any time prior",
          "Covid_19 - Indication any time prior",
          "Covid_19 - Indication any time prior",
          "Covid_19 - Indication during prior 30 days",
          "Covid_19 - Indication during prior 30 days",
          "Covid_19 - Indication on index date",
          "Infection - Indication any time prior",
          "Infection - Indication during prior 30 days",
          "Infection - Indication during prior 30 days",
          "Infection - Indication on index date",
          "Orthopaedic_surgery - Indication any time prior",
          "Orthopaedic_surgery - Indication during prior 30 days",
          "Otitis_media - Indication any time prior",
          "Otitis_media - Indication during prior 30 days",
          "Otitis_media - Indication on index date",
          "Pneumonia - Indication any time prior",
          "Pneumonia - Indication during prior 30 days",
          "Tonsillitis_pharyngitis - Indication during prior 30 days",
          "Tonsillitis_pharyngitis - Indication on index date"
         ],
         "xaxis": "x",
         "y": [
          -0.5753641449035618,
          -0.4960833420287871,
          -0.2800327265332917,
          -1.555043840368304,
          -2.399787420950408,
          -2.354896387562057,
          -0.2288415724288481,
          -0.38067832912570915,
          -0.5226401071797541,
          -0.41765825690738057,
          -1.1124056108004463,
          null,
          0.27958486221916135,
          -0.244345758964813,
          0.26570316573300845,
          0.18759861389480145,
          0.831297519040764,
          -0.5108256237659907,
          -0.40546510810816394
         ],
         "yaxis": "y"
        },
        {
         "hovertemplate": "country=Spain<br>Variable Name - Variable Level=%{x}<br>Difference=%{y}<extra></extra>",
         "legendgroup": "Spain",
         "marker": {
          "color": "#19d3f3",
          "symbol": "circle"
         },
         "mode": "markers",
         "name": "Spain",
         "orientation": "v",
         "showlegend": true,
         "type": "scatter",
         "x": [
          "Chronic_bronchitis - Indication any time prior",
          "Chronic_bronchitis - Indication on index date",
          "Covid_19 - Indication any time prior",
          "Covid_19 - Indication any time prior",
          "Covid_19 - Indication any time prior",
          "Covid_19 - Indication any time prior",
          "Covid_19 - Indication any time prior",
          "Covid_19 - Indication during prior 30 days",
          "Covid_19 - Indication during prior 30 days",
          "Covid_19 - Indication during prior 30 days",
          "Covid_19 - Indication during prior 30 days",
          "Covid_19 - Indication on index date",
          "Covid_19 - Indication on index date",
          "Covid_19 - Indication on index date",
          "Covid_19 - Indication on index date",
          "Cystitis - Indication on index date",
          "Cystitis_bacteriuria - Indication during prior 30 days",
          "Cystitis_bacteriuria - Indication on index date",
          "Cystitis_bacteriuria - Indication on index date",
          "Endocarditis - Indication any time prior",
          "Infection - Indication during prior 30 days",
          "Infection - Indication on index date",
          "Infection - Indication on index date",
          "Infection - Indication on index date",
          "Orthopaedic_surgery - Indication during prior 30 days",
          "Otitis_media - Indication any time prior",
          "Otitis_media - Indication during prior 30 days",
          "Pneumonia - Indication any time prior",
          "Pneumonia - Indication any time prior",
          "Pneumonia - Indication during prior 30 days",
          "Pneumonia - Indication during prior 30 days",
          "Pneumonia - Indication during prior 30 days",
          "Pneumonia - Indication on index date",
          "Pneumonia - Indication on index date",
          "Pneumonia - Indication on index date",
          "Sinusitis - Indication any time prior",
          "Sinusitis - Indication any time prior",
          "Sinusitis - Indication during prior 30 days",
          "Sinusitis - Indication during prior 30 days",
          "Sinusitis - Indication during prior 30 days",
          "Sinusitis - Indication on index date",
          "Sinusitis - Indication on index date",
          "Tonsillitis_pharyngitis - Indication during prior 30 days",
          "Tonsillitis_pharyngitis - Indication during prior 30 days",
          "Tonsillitis_pharyngitis - Indication on index date",
          "Tonsillitis_pharyngitis - Indication on index date",
          "Urethritis - Indication any time prior",
          "amoxicillin - duration"
         ],
         "xaxis": "x",
         "y": [
          -0.2584116901516681,
          null,
          0.7530075684836226,
          0.913878185468772,
          0.2625821531272482,
          0.8455015602814191,
          -0.5596157879354235,
          -0.870828357797397,
          -1.152679509938384,
          -1.071213314479994,
          -1.791759469228053,
          -0.916290731874155,
          -1.2039728043259361,
          -0.2363887780642308,
          -0.6931471805599453,
          -0.8472978603872027,
          -0.46702300110759787,
          -0.5108256237659907,
          -0.6931471805599453,
          -0.24512245803298496,
          -0.27655848723311915,
          0.1823215567939546,
          0.23361485118150352,
          -0.2643347084547897,
          0.723918839226699,
          0.19372966610791723,
          -0.44020805655203765,
          0.3481245614929194,
          0.21040452553677724,
          0.43995128417933466,
          0.21056476910734964,
          0.572519192771329,
          0.23684239567236792,
          0.3364722366212129,
          0.613104472886411,
          0.3409265869705932,
          0.47957308026188916,
          0.2828627860158343,
          0.9162907318741551,
          0.32090772008010254,
          0.2754119798599686,
          0.23841102344499884,
          -0.8472978603872027,
          0.25508091107638375,
          -0.5596157879354218,
          0.28076162960720513,
          -0.7985076962177716,
          -0.40546510810816394
         ],
         "yaxis": "y"
        },
        {
         "hovertemplate": "country=Italy<br>Variable Name - Variable Level=%{x}<br>Difference=%{y}<extra></extra>",
         "legendgroup": "Italy",
         "marker": {
          "color": "#FF6692",
          "symbol": "circle"
         },
         "mode": "markers",
         "name": "Italy",
         "orientation": "v",
         "showlegend": true,
         "type": "scatter",
         "x": [
          "Chronic_bronchitis - Indication any time prior",
          "Chronic_bronchitis - Indication any time prior",
          "Chronic_bronchitis - Indication during prior 30 days",
          "Chronic_bronchitis - Indication on index date",
          "Covid_19 - Indication any time prior",
          "Covid_19 - Indication any time prior",
          "Cystitis_bacteriuria - Indication any time prior",
          "Cystitis_bacteriuria - Indication during prior 30 days",
          "Cystitis_bacteriuria - Indication on index date",
          "Infection - Indication any time prior",
          "Infection - Indication any time prior",
          "Infection - Indication during prior 30 days",
          "Infection - Indication during prior 30 days",
          "Infection - Indication on index date",
          "Infection - Indication on index date",
          null,
          "Otitis_media - Indication any time prior",
          "Otitis_media - Indication during prior 30 days",
          "Otitis_media - Indication on index date",
          "Pneumonia - Indication any time prior",
          "Sinusitis - Indication any time prior",
          "Sinusitis - Indication during prior 30 days",
          "Sinusitis - Indication on index date",
          "Tonsillitis_pharyngitis - Indication any time prior",
          "Tonsillitis_pharyngitis - Indication during prior 30 days",
          "Tonsillitis_pharyngitis - Indication on index date",
          "amoxicillin - duration"
         ],
         "xaxis": "x",
         "y": [
          0.9555114450274363,
          0.47000362924573563,
          0.2006706954621494,
          0.4054651081081644,
          0.3417492937220586,
          0.8754687373538999,
          0.6220512588762174,
          0.36464311358790924,
          0.3448404862917274,
          0.47896757010109275,
          0.41580646190289994,
          0.5783079209475762,
          0.41871033485818504,
          0.3364722366212129,
          0.4499168706789993,
          0.22478603731171484,
          0.35139788683789047,
          0.6931471805599453,
          0.8472978603872021,
          0.7419373447293773,
          0.21130909366720785,
          0.6286086594223741,
          0.47000362924573563,
          0.5380117640701473,
          0.8109302162163288,
          0.8136812495882195,
          -0.22705745063534608
         ],
         "yaxis": "y"
        },
        {
         "hovertemplate": "country=Sweden<br>Variable Name - Variable Level=%{x}<br>Difference=%{y}<extra></extra>",
         "legendgroup": "Sweden",
         "marker": {
          "color": "#B6E880",
          "symbol": "circle"
         },
         "mode": "markers",
         "name": "Sweden",
         "orientation": "v",
         "showlegend": true,
         "type": "scatter",
         "x": [
          "Chronic_bronchitis - Indication any time prior",
          "Chronic_bronchitis - Indication on index date",
          "Covid_19 - Indication any time prior",
          "Covid_19 - Indication during prior 30 days",
          "Covid_19 - Indication on index date",
          "Cystitis_bacteriuria - Indication on index date",
          "Orthopaedic_surgery - Indication any time prior",
          "Otitis_media - Indication any time prior",
          "Otitis_media - Indication during prior 30 days",
          "Otitis_media - Indication on index date",
          "Tonsillitis_pharyngitis - Indication during prior 30 days",
          "Tonsillitis_pharyngitis - Indication on index date",
          "Urethritis - Indication any time prior"
         ],
         "xaxis": "x",
         "y": [
          0.20479441264601542,
          null,
          0.7051233716066616,
          -0.5639354490799396,
          -0.9808292530117262,
          -0.40546510810816394,
          0.2006706954621494,
          0.32297561673289943,
          0.3322617040848668,
          0.2791713827838686,
          0.37267528528517596,
          0.3364722366212129,
          0.22314355131420976
         ],
         "yaxis": "y"
        },
        {
         "hovertemplate": "country=Finland<br>Variable Name - Variable Level=%{x}<br>Difference=%{y}<extra></extra>",
         "legendgroup": "Finland",
         "marker": {
          "color": "#FF97FF",
          "symbol": "circle"
         },
         "mode": "markers",
         "name": "Finland",
         "orientation": "v",
         "showlegend": true,
         "type": "scatter",
         "x": [
          "Chronic_bronchitis - Indication any time prior",
          "Covid_19 - Indication any time prior",
          "Covid_19 - Indication any time prior",
          "Covid_19 - Indication during prior 30 days",
          "Covid_19 - Indication during prior 30 days",
          "Covid_19 - Indication on index date",
          "Covid_19 - Indication on index date",
          "Cystitis_bacteriuria - Indication on index date",
          "Endocarditis - Indication during prior 30 days",
          "Lyme_disease - Indication any time prior",
          "Lyme_disease - Indication during prior 30 days",
          "Lyme_disease - Indication on index date",
          "Orthopaedic_surgery - Indication any time prior",
          "Orthopaedic_surgery - Indication during prior 30 days",
          "Otitis_media - Indication during prior 30 days",
          "Otitis_media - Indication on index date",
          "Pneumonia - Indication on index date",
          "Sinusitis - Indication during prior 30 days",
          "Sinusitis - Indication during prior 30 days",
          "Sinusitis - Indication on index date",
          "Tonsillitis_pharyngitis - Indication any time prior",
          "Tonsillitis_pharyngitis - Indication during prior 30 days"
         ],
         "xaxis": "x",
         "y": [
          0.22957444164449842,
          0.40995949769600576,
          0.6709430232489343,
          -0.27264419508724086,
          0.34368774841192384,
          -0.4855078157817015,
          0.35503425448127157,
          0.4054651081081644,
          0.6286086594223741,
          -0.2876820724517809,
          -0.4748936145399275,
          -0.4855078157817015,
          0.2392296890658339,
          -0.40546510810816394,
          0.21209371512762787,
          0.2034384802348766,
          0.273197139530415,
          0.2079341326506824,
          0.25131442828090944,
          0.21858773477834767,
          0.25593337413720324,
          0.3364722366212129
         ],
         "yaxis": "y"
        },
        {
         "hovertemplate": "country=Netherlands<br>Variable Name - Variable Level=%{x}<br>Difference=%{y}<extra></extra>",
         "legendgroup": "Netherlands",
         "marker": {
          "color": "#FECB52",
          "symbol": "circle"
         },
         "mode": "markers",
         "name": "Netherlands",
         "orientation": "v",
         "showlegend": true,
         "type": "scatter",
         "x": [
          "Chronic_bronchitis - Indication on index date",
          "Covid_19 - Indication any time prior",
          "Covid_19 - Indication during prior 30 days",
          "Covid_19 - Indication on index date",
          null,
          null,
          "Pneumonia - Indication during prior 30 days",
          "Pneumonia - Indication on index date"
         ],
         "xaxis": "x",
         "y": [
          -0.6931471805599453,
          0.7443868254397149,
          -1.5793604571968207,
          -1.435084525289323,
          0.3020063997399368,
          -0.23164068156815565,
          0.3140309021485314,
          0.3342020880866761
         ],
         "yaxis": "y"
        },
        {
         "hovertemplate": "country=France<br>Variable Name - Variable Level=%{x}<br>Difference=%{y}<extra></extra>",
         "legendgroup": "France",
         "marker": {
          "color": "#636efa",
          "symbol": "circle"
         },
         "mode": "markers",
         "name": "France",
         "orientation": "v",
         "showlegend": true,
         "type": "scatter",
         "x": [
          "Covid_19 - Indication any time prior",
          "Covid_19 - Indication during prior 30 days",
          "Covid_19 - Indication on index date",
          "Cystitis_bacteriuria - Indication any time prior",
          "Cystitis_bacteriuria - Indication during prior 30 days",
          "Endocarditis - Indication any time prior",
          "Endocarditis - Indication during prior 30 days",
          "Endocarditis - Indication on index date",
          "Infection - Indication any time prior",
          "Infection - Indication during prior 30 days",
          "Infection - Indication on index date",
          "Otitis_media - Indication on index date",
          "Pneumonia - Indication any time prior",
          "Pneumonia - Indication during prior 30 days",
          "Pneumonia - Indication on index date",
          "Pyelonephritis - Indication any time prior",
          "Pyelonephritis - Indication during prior 30 days",
          "Tonsillitis_pharyngitis - Indication during prior 30 days",
          "Tonsillitis_pharyngitis - Indication on index date",
          "amoxicillin - duration"
         ],
         "xaxis": "x",
         "y": [
          -0.2606011138491097,
          -1.0986122886681107,
          null,
          -0.6797241602278041,
          -0.8630462173553428,
          -0.44895022004790247,
          -0.6405034470745234,
          -0.25593337413720035,
          -0.44555576476998604,
          -0.8742116661638482,
          -0.8257916551662399,
          -0.5108256237659907,
          -0.23309388216737792,
          -0.6061358035703164,
          -0.7559480817989763,
          -0.36772478012531784,
          -0.40546510810816394,
          -0.6061358035703164,
          null,
          -1.29928298413026
         ],
         "yaxis": "y"
        },
        {
         "hovertemplate": "country=Serbia<br>Variable Name - Variable Level=%{x}<br>Difference=%{y}<extra></extra>",
         "legendgroup": "Serbia",
         "marker": {
          "color": "#EF553B",
          "symbol": "circle"
         },
         "mode": "markers",
         "name": "Serbia",
         "orientation": "v",
         "showlegend": true,
         "type": "scatter",
         "x": [
          "Covid_19 - Indication any time prior",
          "Infection - Indication on index date",
          "Pneumonia - Indication during prior 30 days",
          "Tonsillitis_pharyngitis - Indication any time prior",
          "Tonsillitis_pharyngitis - Indication during prior 30 days"
         ],
         "xaxis": "x",
         "y": [
          -0.8770700187208739,
          0.4256052156572809,
          -0.5557989894087211,
          0.3673322384127217,
          0.26406382110357085
         ],
         "yaxis": "y"
        },
        {
         "hovertemplate": "country=Germany<br>Variable Name - Variable Level=%{x}<br>Difference=%{y}<extra></extra>",
         "legendgroup": "Germany",
         "marker": {
          "color": "#00cc96",
          "symbol": "circle"
         },
         "mode": "markers",
         "name": "Germany",
         "orientation": "v",
         "showlegend": true,
         "type": "scatter",
         "x": [
          "Covid_19 - Indication any time prior",
          "Covid_19 - Indication any time prior",
          "Covid_19 - Indication during prior 30 days",
          "Covid_19 - Indication on index date",
          "Cystitis_bacteriuria - Indication during prior 30 days",
          "Helicobacter_pylori - Indication during prior 30 days",
          "Helicobacter_pylori - Indication on index date",
          "Infection - Indication on index date",
          null,
          "Orthopaedic_surgery - Indication any time prior",
          "Otitis_media - Indication any time prior",
          "Otitis_media - Indication on index date",
          "Pneumonia - Indication any time prior",
          "Tonsillitis_pharyngitis - Indication on index date",
          "Urethritis - Indication any time prior"
         ],
         "xaxis": "x",
         "y": [
          0.7339691750801988,
          -0.914929261275835,
          null,
          null,
          null,
          -0.9808292530117262,
          null,
          0.3969544184402555,
          -0.7538493007295798,
          0.35667494393873334,
          0.2429461786103894,
          1.0986122886681098,
          -0.6740989855892501,
          null,
          null
         ],
         "yaxis": "y"
        },
        {
         "hovertemplate": "country=USA<br>Variable Name - Variable Level=%{x}<br>Difference=%{y}<extra></extra>",
         "legendgroup": "USA",
         "marker": {
          "color": "#ab63fa",
          "symbol": "circle"
         },
         "mode": "markers",
         "name": "USA",
         "orientation": "v",
         "showlegend": true,
         "type": "scatter",
         "x": [
          "Covid_19 - Indication any time prior",
          "Infection - Indication during prior 30 days",
          "Infection - Indication on index date",
          "Pneumonia - Indication during prior 30 days",
          "Pyelonephritis - Indication any time prior",
          "Sinusitis - Indication on index date",
          "Tonsillitis_pharyngitis - Indication during prior 30 days",
          "Tonsillitis_pharyngitis - Indication on index date"
         ],
         "xaxis": "x",
         "y": [
          0.6882571952657512,
          0.31187166692289475,
          0.4253662624254565,
          -0.2623642644674913,
          0.27193371548364176,
          -0.2231435513142097,
          0.3922198813581459,
          0.4388015283757571
         ],
         "yaxis": "y"
        }
       ],
       "layout": {
        "height": 800,
        "legend": {
         "title": {
          "text": "country"
         },
         "tracegroupgap": 0
        },
        "template": {
         "data": {
          "bar": [
           {
            "error_x": {
             "color": "#2a3f5f"
            },
            "error_y": {
             "color": "#2a3f5f"
            },
            "marker": {
             "line": {
              "color": "#E5ECF6",
              "width": 0.5
             },
             "pattern": {
              "fillmode": "overlay",
              "size": 10,
              "solidity": 0.2
             }
            },
            "type": "bar"
           }
          ],
          "barpolar": [
           {
            "marker": {
             "line": {
              "color": "#E5ECF6",
              "width": 0.5
             },
             "pattern": {
              "fillmode": "overlay",
              "size": 10,
              "solidity": 0.2
             }
            },
            "type": "barpolar"
           }
          ],
          "carpet": [
           {
            "aaxis": {
             "endlinecolor": "#2a3f5f",
             "gridcolor": "white",
             "linecolor": "white",
             "minorgridcolor": "white",
             "startlinecolor": "#2a3f5f"
            },
            "baxis": {
             "endlinecolor": "#2a3f5f",
             "gridcolor": "white",
             "linecolor": "white",
             "minorgridcolor": "white",
             "startlinecolor": "#2a3f5f"
            },
            "type": "carpet"
           }
          ],
          "choropleth": [
           {
            "colorbar": {
             "outlinewidth": 0,
             "ticks": ""
            },
            "type": "choropleth"
           }
          ],
          "contour": [
           {
            "colorbar": {
             "outlinewidth": 0,
             "ticks": ""
            },
            "colorscale": [
             [
              0,
              "#0d0887"
             ],
             [
              0.1111111111111111,
              "#46039f"
             ],
             [
              0.2222222222222222,
              "#7201a8"
             ],
             [
              0.3333333333333333,
              "#9c179e"
             ],
             [
              0.4444444444444444,
              "#bd3786"
             ],
             [
              0.5555555555555556,
              "#d8576b"
             ],
             [
              0.6666666666666666,
              "#ed7953"
             ],
             [
              0.7777777777777778,
              "#fb9f3a"
             ],
             [
              0.8888888888888888,
              "#fdca26"
             ],
             [
              1,
              "#f0f921"
             ]
            ],
            "type": "contour"
           }
          ],
          "contourcarpet": [
           {
            "colorbar": {
             "outlinewidth": 0,
             "ticks": ""
            },
            "type": "contourcarpet"
           }
          ],
          "heatmap": [
           {
            "colorbar": {
             "outlinewidth": 0,
             "ticks": ""
            },
            "colorscale": [
             [
              0,
              "#0d0887"
             ],
             [
              0.1111111111111111,
              "#46039f"
             ],
             [
              0.2222222222222222,
              "#7201a8"
             ],
             [
              0.3333333333333333,
              "#9c179e"
             ],
             [
              0.4444444444444444,
              "#bd3786"
             ],
             [
              0.5555555555555556,
              "#d8576b"
             ],
             [
              0.6666666666666666,
              "#ed7953"
             ],
             [
              0.7777777777777778,
              "#fb9f3a"
             ],
             [
              0.8888888888888888,
              "#fdca26"
             ],
             [
              1,
              "#f0f921"
             ]
            ],
            "type": "heatmap"
           }
          ],
          "heatmapgl": [
           {
            "colorbar": {
             "outlinewidth": 0,
             "ticks": ""
            },
            "colorscale": [
             [
              0,
              "#0d0887"
             ],
             [
              0.1111111111111111,
              "#46039f"
             ],
             [
              0.2222222222222222,
              "#7201a8"
             ],
             [
              0.3333333333333333,
              "#9c179e"
             ],
             [
              0.4444444444444444,
              "#bd3786"
             ],
             [
              0.5555555555555556,
              "#d8576b"
             ],
             [
              0.6666666666666666,
              "#ed7953"
             ],
             [
              0.7777777777777778,
              "#fb9f3a"
             ],
             [
              0.8888888888888888,
              "#fdca26"
             ],
             [
              1,
              "#f0f921"
             ]
            ],
            "type": "heatmapgl"
           }
          ],
          "histogram": [
           {
            "marker": {
             "pattern": {
              "fillmode": "overlay",
              "size": 10,
              "solidity": 0.2
             }
            },
            "type": "histogram"
           }
          ],
          "histogram2d": [
           {
            "colorbar": {
             "outlinewidth": 0,
             "ticks": ""
            },
            "colorscale": [
             [
              0,
              "#0d0887"
             ],
             [
              0.1111111111111111,
              "#46039f"
             ],
             [
              0.2222222222222222,
              "#7201a8"
             ],
             [
              0.3333333333333333,
              "#9c179e"
             ],
             [
              0.4444444444444444,
              "#bd3786"
             ],
             [
              0.5555555555555556,
              "#d8576b"
             ],
             [
              0.6666666666666666,
              "#ed7953"
             ],
             [
              0.7777777777777778,
              "#fb9f3a"
             ],
             [
              0.8888888888888888,
              "#fdca26"
             ],
             [
              1,
              "#f0f921"
             ]
            ],
            "type": "histogram2d"
           }
          ],
          "histogram2dcontour": [
           {
            "colorbar": {
             "outlinewidth": 0,
             "ticks": ""
            },
            "colorscale": [
             [
              0,
              "#0d0887"
             ],
             [
              0.1111111111111111,
              "#46039f"
             ],
             [
              0.2222222222222222,
              "#7201a8"
             ],
             [
              0.3333333333333333,
              "#9c179e"
             ],
             [
              0.4444444444444444,
              "#bd3786"
             ],
             [
              0.5555555555555556,
              "#d8576b"
             ],
             [
              0.6666666666666666,
              "#ed7953"
             ],
             [
              0.7777777777777778,
              "#fb9f3a"
             ],
             [
              0.8888888888888888,
              "#fdca26"
             ],
             [
              1,
              "#f0f921"
             ]
            ],
            "type": "histogram2dcontour"
           }
          ],
          "mesh3d": [
           {
            "colorbar": {
             "outlinewidth": 0,
             "ticks": ""
            },
            "type": "mesh3d"
           }
          ],
          "parcoords": [
           {
            "line": {
             "colorbar": {
              "outlinewidth": 0,
              "ticks": ""
             }
            },
            "type": "parcoords"
           }
          ],
          "pie": [
           {
            "automargin": true,
            "type": "pie"
           }
          ],
          "scatter": [
           {
            "fillpattern": {
             "fillmode": "overlay",
             "size": 10,
             "solidity": 0.2
            },
            "type": "scatter"
           }
          ],
          "scatter3d": [
           {
            "line": {
             "colorbar": {
              "outlinewidth": 0,
              "ticks": ""
             }
            },
            "marker": {
             "colorbar": {
              "outlinewidth": 0,
              "ticks": ""
             }
            },
            "type": "scatter3d"
           }
          ],
          "scattercarpet": [
           {
            "marker": {
             "colorbar": {
              "outlinewidth": 0,
              "ticks": ""
             }
            },
            "type": "scattercarpet"
           }
          ],
          "scattergeo": [
           {
            "marker": {
             "colorbar": {
              "outlinewidth": 0,
              "ticks": ""
             }
            },
            "type": "scattergeo"
           }
          ],
          "scattergl": [
           {
            "marker": {
             "colorbar": {
              "outlinewidth": 0,
              "ticks": ""
             }
            },
            "type": "scattergl"
           }
          ],
          "scattermapbox": [
           {
            "marker": {
             "colorbar": {
              "outlinewidth": 0,
              "ticks": ""
             }
            },
            "type": "scattermapbox"
           }
          ],
          "scatterpolar": [
           {
            "marker": {
             "colorbar": {
              "outlinewidth": 0,
              "ticks": ""
             }
            },
            "type": "scatterpolar"
           }
          ],
          "scatterpolargl": [
           {
            "marker": {
             "colorbar": {
              "outlinewidth": 0,
              "ticks": ""
             }
            },
            "type": "scatterpolargl"
           }
          ],
          "scatterternary": [
           {
            "marker": {
             "colorbar": {
              "outlinewidth": 0,
              "ticks": ""
             }
            },
            "type": "scatterternary"
           }
          ],
          "surface": [
           {
            "colorbar": {
             "outlinewidth": 0,
             "ticks": ""
            },
            "colorscale": [
             [
              0,
              "#0d0887"
             ],
             [
              0.1111111111111111,
              "#46039f"
             ],
             [
              0.2222222222222222,
              "#7201a8"
             ],
             [
              0.3333333333333333,
              "#9c179e"
             ],
             [
              0.4444444444444444,
              "#bd3786"
             ],
             [
              0.5555555555555556,
              "#d8576b"
             ],
             [
              0.6666666666666666,
              "#ed7953"
             ],
             [
              0.7777777777777778,
              "#fb9f3a"
             ],
             [
              0.8888888888888888,
              "#fdca26"
             ],
             [
              1,
              "#f0f921"
             ]
            ],
            "type": "surface"
           }
          ],
          "table": [
           {
            "cells": {
             "fill": {
              "color": "#EBF0F8"
             },
             "line": {
              "color": "white"
             }
            },
            "header": {
             "fill": {
              "color": "#C8D4E3"
             },
             "line": {
              "color": "white"
             }
            },
            "type": "table"
           }
          ]
         },
         "layout": {
          "annotationdefaults": {
           "arrowcolor": "#2a3f5f",
           "arrowhead": 0,
           "arrowwidth": 1
          },
          "autotypenumbers": "strict",
          "coloraxis": {
           "colorbar": {
            "outlinewidth": 0,
            "ticks": ""
           }
          },
          "colorscale": {
           "diverging": [
            [
             0,
             "#8e0152"
            ],
            [
             0.1,
             "#c51b7d"
            ],
            [
             0.2,
             "#de77ae"
            ],
            [
             0.3,
             "#f1b6da"
            ],
            [
             0.4,
             "#fde0ef"
            ],
            [
             0.5,
             "#f7f7f7"
            ],
            [
             0.6,
             "#e6f5d0"
            ],
            [
             0.7,
             "#b8e186"
            ],
            [
             0.8,
             "#7fbc41"
            ],
            [
             0.9,
             "#4d9221"
            ],
            [
             1,
             "#276419"
            ]
           ],
           "sequential": [
            [
             0,
             "#0d0887"
            ],
            [
             0.1111111111111111,
             "#46039f"
            ],
            [
             0.2222222222222222,
             "#7201a8"
            ],
            [
             0.3333333333333333,
             "#9c179e"
            ],
            [
             0.4444444444444444,
             "#bd3786"
            ],
            [
             0.5555555555555556,
             "#d8576b"
            ],
            [
             0.6666666666666666,
             "#ed7953"
            ],
            [
             0.7777777777777778,
             "#fb9f3a"
            ],
            [
             0.8888888888888888,
             "#fdca26"
            ],
            [
             1,
             "#f0f921"
            ]
           ],
           "sequentialminus": [
            [
             0,
             "#0d0887"
            ],
            [
             0.1111111111111111,
             "#46039f"
            ],
            [
             0.2222222222222222,
             "#7201a8"
            ],
            [
             0.3333333333333333,
             "#9c179e"
            ],
            [
             0.4444444444444444,
             "#bd3786"
            ],
            [
             0.5555555555555556,
             "#d8576b"
            ],
            [
             0.6666666666666666,
             "#ed7953"
            ],
            [
             0.7777777777777778,
             "#fb9f3a"
            ],
            [
             0.8888888888888888,
             "#fdca26"
            ],
            [
             1,
             "#f0f921"
            ]
           ]
          },
          "colorway": [
           "#636efa",
           "#EF553B",
           "#00cc96",
           "#ab63fa",
           "#FFA15A",
           "#19d3f3",
           "#FF6692",
           "#B6E880",
           "#FF97FF",
           "#FECB52"
          ],
          "font": {
           "color": "#2a3f5f"
          },
          "geo": {
           "bgcolor": "white",
           "lakecolor": "white",
           "landcolor": "#E5ECF6",
           "showlakes": true,
           "showland": true,
           "subunitcolor": "white"
          },
          "hoverlabel": {
           "align": "left"
          },
          "hovermode": "closest",
          "mapbox": {
           "style": "light"
          },
          "paper_bgcolor": "white",
          "plot_bgcolor": "#E5ECF6",
          "polar": {
           "angularaxis": {
            "gridcolor": "white",
            "linecolor": "white",
            "ticks": ""
           },
           "bgcolor": "#E5ECF6",
           "radialaxis": {
            "gridcolor": "white",
            "linecolor": "white",
            "ticks": ""
           }
          },
          "scene": {
           "xaxis": {
            "backgroundcolor": "#E5ECF6",
            "gridcolor": "white",
            "gridwidth": 2,
            "linecolor": "white",
            "showbackground": true,
            "ticks": "",
            "zerolinecolor": "white"
           },
           "yaxis": {
            "backgroundcolor": "#E5ECF6",
            "gridcolor": "white",
            "gridwidth": 2,
            "linecolor": "white",
            "showbackground": true,
            "ticks": "",
            "zerolinecolor": "white"
           },
           "zaxis": {
            "backgroundcolor": "#E5ECF6",
            "gridcolor": "white",
            "gridwidth": 2,
            "linecolor": "white",
            "showbackground": true,
            "ticks": "",
            "zerolinecolor": "white"
           }
          },
          "shapedefaults": {
           "line": {
            "color": "#2a3f5f"
           }
          },
          "ternary": {
           "aaxis": {
            "gridcolor": "white",
            "linecolor": "white",
            "ticks": ""
           },
           "baxis": {
            "gridcolor": "white",
            "linecolor": "white",
            "ticks": ""
           },
           "bgcolor": "#E5ECF6",
           "caxis": {
            "gridcolor": "white",
            "linecolor": "white",
            "ticks": ""
           }
          },
          "title": {
           "x": 0.05
          },
          "xaxis": {
           "automargin": true,
           "gridcolor": "white",
           "linecolor": "white",
           "ticks": "",
           "title": {
            "standoff": 15
           },
           "zerolinecolor": "white",
           "zerolinewidth": 2
          },
          "yaxis": {
           "automargin": true,
           "gridcolor": "white",
           "linecolor": "white",
           "ticks": "",
           "title": {
            "standoff": 15
           },
           "zerolinecolor": "white",
           "zerolinewidth": 2
          }
         }
        },
        "title": {
         "text": "Scatter Plot of Difference by Variable Level, Colored by Country"
        },
        "width": 1200,
        "xaxis": {
         "anchor": "y",
         "domain": [
          0,
          1
         ],
         "tickangle": 45,
         "title": {
          "text": "Variable Name - Variable Level"
         }
        },
        "yaxis": {
         "anchor": "x",
         "domain": [
          0,
          1
         ],
         "title": {
          "text": "Difference"
         }
        }
       }
      }
     },
     "metadata": {},
     "output_type": "display_data"
    }
   ],
   "source": [
    "import plotly.express as px\n",
    "\n",
    "# Filter the dataframe as needed\n",
    "filtered_df = df.query(\"set == 'inc'\").sort_values(['variable_level', 'variable_name'])\n",
    "\n",
    "# Create a new column that combines 'variable_name' and 'variable_level' for the x-axis\n",
    "filtered_df['variable_combined'] = filtered_df['variable_level'] + ' - ' + filtered_df['variable_name']\n",
    "\n",
    "# Create the interactive scatter plot\n",
    "fig = px.scatter(\n",
    "    filtered_df,\n",
    "    x='variable_combined',\n",
    "    y='log_diff',\n",
    "    color='country',\n",
    "    labels={'variable_combined': 'Variable Name - Variable Level', 'log_diff': 'Difference'},\n",
    "    title='Scatter Plot of Difference by Variable Level, Colored by Country',\n",
    "    #color_discrete_sequence=px.colors.qualitative.Colorblind\n",
    ")\n",
    "\n",
    "# Update layout for better readability\n",
    "fig.update_layout(\n",
    "    xaxis=dict(tickangle=45),\n",
    "    width=1200,\n",
    "    height=800\n",
    ")\n",
    "\n",
    "# Show the plot\n",
    "fig.show()\n"
   ]
  },
  {
   "cell_type": "code",
   "execution_count": 23,
   "metadata": {},
   "outputs": [
    {
     "ename": "ModuleNotFoundError",
     "evalue": "No module named 'plotly'",
     "output_type": "error",
     "traceback": [
      "\u001b[1;31m---------------------------------------------------------------------------\u001b[0m",
      "\u001b[1;31mModuleNotFoundError\u001b[0m                       Traceback (most recent call last)",
      "Cell \u001b[1;32mIn[23], line 2\u001b[0m\n\u001b[0;32m      1\u001b[0m \u001b[38;5;28;01mimport\u001b[39;00m \u001b[38;5;21;01mpandas\u001b[39;00m \u001b[38;5;28;01mas\u001b[39;00m \u001b[38;5;21;01mpd\u001b[39;00m\n\u001b[1;32m----> 2\u001b[0m \u001b[38;5;28;01mimport\u001b[39;00m \u001b[38;5;21;01mplotly\u001b[39;00m\u001b[38;5;21;01m.\u001b[39;00m\u001b[38;5;21;01mexpress\u001b[39;00m \u001b[38;5;28;01mas\u001b[39;00m \u001b[38;5;21;01mpx\u001b[39;00m\n\u001b[0;32m      4\u001b[0m \u001b[38;5;66;03m# Load the CSV file into a DataFrame\u001b[39;00m\n\u001b[0;32m      5\u001b[0m df \u001b[38;5;241m=\u001b[39m pd\u001b[38;5;241m.\u001b[39mread_csv(\u001b[38;5;124m'\u001b[39m\u001b[38;5;124mamoxi_dus_csv.csv\u001b[39m\u001b[38;5;124m'\u001b[39m)\n",
      "\u001b[1;31mModuleNotFoundError\u001b[0m: No module named 'plotly'"
     ]
    }
   ],
   "source": [
    "import pandas as pd\n",
    "import plotly.express as px\n",
    "\n",
    "# Load the CSV file into a DataFrame\n",
    "df = pd.read_csv('amoxi_dus_csv.csv')\n",
    "\n",
    "# Filter the DataFrame\n",
    "filtered_df = df.query(\"variable_name == 'Indication on index date'\").query(\"set == 'prev'\")\n",
    "\n",
    "# Create an interactive scatter plot\n",
    "fig = px.scatter(\n",
    "    filtered_df,\n",
    "    x='variable_level',\n",
    "    y='log_diff',\n",
    "    color='country',\n",
    "    title='Scatter Plot of Difference by Variable Level, Colored by Country',\n",
    "    labels={\n",
    "        'variable_level': 'Variable Level',\n",
    "        'log_diff': 'Difference'\n",
    "    },\n",
    "    color_continuous_scale='Viridis'\n",
    ")\n",
    "\n",
    "# Update layout for better readability\n",
    "fig.update_layout(\n",
    "    xaxis_title='Variable Level',\n",
    "    yaxis_title='Difference',\n",
    "    xaxis_tickangle=45,\n",
    "    template='plotly_white'\n",
    ")\n",
    "\n",
    "# Show the plot\n",
    "fig.show()"
   ]
  },
  {
   "cell_type": "code",
   "execution_count": 27,
   "metadata": {},
   "outputs": [
    {
     "data": {
      "text/html": [
       "<div>\n",
       "<style scoped>\n",
       "    .dataframe tbody tr th:only-of-type {\n",
       "        vertical-align: middle;\n",
       "    }\n",
       "\n",
       "    .dataframe tbody tr th {\n",
       "        vertical-align: top;\n",
       "    }\n",
       "\n",
       "    .dataframe thead th {\n",
       "        text-align: right;\n",
       "    }\n",
       "</style>\n",
       "<table border=\"1\" class=\"dataframe\">\n",
       "  <thead>\n",
       "    <tr style=\"text-align: right;\">\n",
       "      <th></th>\n",
       "      <th>variable_level</th>\n",
       "      <th>variable_name</th>\n",
       "      <th>count</th>\n",
       "    </tr>\n",
       "  </thead>\n",
       "  <tbody>\n",
       "    <tr>\n",
       "      <th>6</th>\n",
       "      <td>Infection</td>\n",
       "      <td>Indication on index date</td>\n",
       "      <td>15</td>\n",
       "    </tr>\n",
       "    <tr>\n",
       "      <th>1</th>\n",
       "      <td>Covid_19</td>\n",
       "      <td>Indication on index date</td>\n",
       "      <td>13</td>\n",
       "    </tr>\n",
       "    <tr>\n",
       "      <th>9</th>\n",
       "      <td>Pneumonia</td>\n",
       "      <td>Indication on index date</td>\n",
       "      <td>11</td>\n",
       "    </tr>\n",
       "    <tr>\n",
       "      <th>12</th>\n",
       "      <td>Tonsillitis_pharyngitis</td>\n",
       "      <td>Indication on index date</td>\n",
       "      <td>11</td>\n",
       "    </tr>\n",
       "    <tr>\n",
       "      <th>8</th>\n",
       "      <td>Otitis_media</td>\n",
       "      <td>Indication on index date</td>\n",
       "      <td>9</td>\n",
       "    </tr>\n",
       "    <tr>\n",
       "      <th>3</th>\n",
       "      <td>Cystitis_bacteriuria</td>\n",
       "      <td>Indication on index date</td>\n",
       "      <td>7</td>\n",
       "    </tr>\n",
       "    <tr>\n",
       "      <th>11</th>\n",
       "      <td>Sinusitis</td>\n",
       "      <td>Indication on index date</td>\n",
       "      <td>6</td>\n",
       "    </tr>\n",
       "    <tr>\n",
       "      <th>0</th>\n",
       "      <td>Chronic_bronchitis</td>\n",
       "      <td>Indication on index date</td>\n",
       "      <td>5</td>\n",
       "    </tr>\n",
       "    <tr>\n",
       "      <th>5</th>\n",
       "      <td>Helicobacter_pylori</td>\n",
       "      <td>Indication on index date</td>\n",
       "      <td>2</td>\n",
       "    </tr>\n",
       "    <tr>\n",
       "      <th>2</th>\n",
       "      <td>Cystitis</td>\n",
       "      <td>Indication on index date</td>\n",
       "      <td>1</td>\n",
       "    </tr>\n",
       "    <tr>\n",
       "      <th>4</th>\n",
       "      <td>Endocarditis</td>\n",
       "      <td>Indication on index date</td>\n",
       "      <td>1</td>\n",
       "    </tr>\n",
       "    <tr>\n",
       "      <th>7</th>\n",
       "      <td>Lyme_disease</td>\n",
       "      <td>Indication on index date</td>\n",
       "      <td>1</td>\n",
       "    </tr>\n",
       "    <tr>\n",
       "      <th>10</th>\n",
       "      <td>Pyelonephritis</td>\n",
       "      <td>Indication on index date</td>\n",
       "      <td>1</td>\n",
       "    </tr>\n",
       "  </tbody>\n",
       "</table>\n",
       "</div>"
      ],
      "text/plain": [
       "             variable_level             variable_name  count\n",
       "6                 Infection  Indication on index date     15\n",
       "1                  Covid_19  Indication on index date     13\n",
       "9                 Pneumonia  Indication on index date     11\n",
       "12  Tonsillitis_pharyngitis  Indication on index date     11\n",
       "8              Otitis_media  Indication on index date      9\n",
       "3      Cystitis_bacteriuria  Indication on index date      7\n",
       "11                Sinusitis  Indication on index date      6\n",
       "0        Chronic_bronchitis  Indication on index date      5\n",
       "5       Helicobacter_pylori  Indication on index date      2\n",
       "2                  Cystitis  Indication on index date      1\n",
       "4              Endocarditis  Indication on index date      1\n",
       "7              Lyme_disease  Indication on index date      1\n",
       "10           Pyelonephritis  Indication on index date      1"
      ]
     },
     "execution_count": 27,
     "metadata": {},
     "output_type": "execute_result"
    }
   ],
   "source": [
    "# Most frequent variable_levels\n",
    "variable_level_counts_df = (\n",
    "    df\n",
    "    .query(\"variable_name == 'Indication on index date'\")\n",
    "    .query(\"set == 'inc'\")\n",
    "    #.query(\"set == 'prev'\")\n",
    "    #\n",
    "    .groupby(['variable_level', 'variable_name'])        # Group by 'variable_level'\n",
    "    .size()                           # Count occurrences of each group\n",
    "    .reset_index(name='count')        # Convert Series to DataFrame and rename the count column\n",
    "    .sort_values(by='count', ascending=False)  # Sort by count in descending order\n",
    ")\n",
    "variable_level_counts_df"
   ]
  }
 ],
 "metadata": {
  "kernelspec": {
   "display_name": "Python 3",
   "language": "python",
   "name": "python3"
  },
  "language_info": {
   "codemirror_mode": {
    "name": "ipython",
    "version": 3
   },
   "file_extension": ".py",
   "mimetype": "text/x-python",
   "name": "python",
   "nbconvert_exporter": "python",
   "pygments_lexer": "ipython3",
   "version": "3.11.5"
  }
 },
 "nbformat": 4,
 "nbformat_minor": 2
}
